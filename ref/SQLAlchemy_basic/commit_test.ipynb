{
 "cells": [
  {
   "cell_type": "markdown",
   "id": "5334cc72",
   "metadata": {},
   "source": [
    "# sqlalchemy설정"
   ]
  },
  {
   "cell_type": "code",
   "execution_count": 1,
   "id": "d36a8f3b",
   "metadata": {},
   "outputs": [],
   "source": [
    "from sqlalchemy import create_engine\n",
    "from sqlalchemy.orm import sessionmaker\n",
    "from sqlalchemy.ext.declarative import declarative_base\n",
    "\n",
    "#reference: https://docs.sqlalchemy.org/en/14/orm/session_api.html#session-and-sessionmaker\n",
    "engine = create_engine('sqlite:///example.db', echo=True)\n",
    "Session = sessionmaker(engine)\n",
    "Base = declarative_base()"
   ]
  },
  {
   "cell_type": "markdown",
   "id": "aa2cbedc",
   "metadata": {},
   "source": [
    "# 테이블 생성"
   ]
  },
  {
   "cell_type": "code",
   "execution_count": 2,
   "id": "608755ac",
   "metadata": {},
   "outputs": [
    {
     "name": "stdout",
     "output_type": "stream",
     "text": [
      "2021-09-12 10:57:33,026 INFO sqlalchemy.engine.Engine BEGIN (implicit)\n",
      "2021-09-12 10:57:33,028 INFO sqlalchemy.engine.Engine PRAGMA main.table_info(\"demos\")\n",
      "2021-09-12 10:57:33,029 INFO sqlalchemy.engine.Engine [raw sql] ()\n",
      "2021-09-12 10:57:33,030 INFO sqlalchemy.engine.Engine COMMIT\n"
     ]
    }
   ],
   "source": [
    "from sqlalchemy import Column, Integer, String\n",
    "\n",
    "class Demo(Base):\n",
    "    __tablename__ = 'demos'\n",
    "    \n",
    "    id = Column(Integer, primary_key=True)\n",
    "    name = Column(String)\n",
    "    password = Column(String)\n",
    "    \n",
    "Base.metadata.create_all(engine)"
   ]
  },
  {
   "cell_type": "markdown",
   "id": "29a7e1a2",
   "metadata": {},
   "source": [
    "# 트랜잭션 테스트"
   ]
  },
  {
   "cell_type": "code",
   "execution_count": 3,
   "id": "7cf39c34",
   "metadata": {},
   "outputs": [],
   "source": [
    "session = Session()"
   ]
  },
  {
   "cell_type": "code",
   "execution_count": 4,
   "id": "7f07c772",
   "metadata": {},
   "outputs": [],
   "source": [
    "user1 = Demo(name=\"user1\", password=\"password\")\n",
    "user2 = Demo(name=\"user2\", password=\"password\")\n",
    "user3 = Demo(name=\"user3\", password=\"password\")"
   ]
  },
  {
   "cell_type": "code",
   "execution_count": 5,
   "id": "45eeda6a",
   "metadata": {},
   "outputs": [],
   "source": [
    "session.add(user1)\n",
    "session.add(user2)\n",
    "session.add(user3)"
   ]
  },
  {
   "cell_type": "code",
   "execution_count": 6,
   "id": "c7cfa7d0",
   "metadata": {},
   "outputs": [
    {
     "name": "stdout",
     "output_type": "stream",
     "text": [
      "2021-09-12 11:00:07,938 INFO sqlalchemy.engine.Engine BEGIN (implicit)\n",
      "2021-09-12 11:00:07,939 INFO sqlalchemy.engine.Engine INSERT INTO demos (name, password) VALUES (?, ?)\n",
      "2021-09-12 11:00:07,940 INFO sqlalchemy.engine.Engine [generated in 0.00073s] ('user1', 'password')\n",
      "2021-09-12 11:00:07,942 INFO sqlalchemy.engine.Engine INSERT INTO demos (name, password) VALUES (?, ?)\n",
      "2021-09-12 11:00:07,943 INFO sqlalchemy.engine.Engine [cached since 0.003349s ago] ('user2', 'password')\n",
      "2021-09-12 11:00:07,944 INFO sqlalchemy.engine.Engine INSERT INTO demos (name, password) VALUES (?, ?)\n",
      "2021-09-12 11:00:07,944 INFO sqlalchemy.engine.Engine [cached since 0.004979s ago] ('user3', 'password')\n",
      "2021-09-12 11:00:07,946 INFO sqlalchemy.engine.Engine SELECT demos.id AS demos_id, demos.name AS demos_name, demos.password AS demos_password \n",
      "FROM demos\n",
      "2021-09-12 11:00:07,946 INFO sqlalchemy.engine.Engine [generated in 0.00050s] ()\n"
     ]
    },
    {
     "data": {
      "text/plain": [
       "[<__main__.Demo at 0x1ba2fae2730>,\n",
       " <__main__.Demo at 0x1ba2fae26d0>,\n",
       " <__main__.Demo at 0x1ba2fae2760>]"
      ]
     },
     "execution_count": 6,
     "metadata": {},
     "output_type": "execute_result"
    }
   ],
   "source": [
    "session.query(Demo).all()"
   ]
  },
  {
   "cell_type": "code",
   "execution_count": 7,
   "id": "2583c922",
   "metadata": {},
   "outputs": [
    {
     "name": "stdout",
     "output_type": "stream",
     "text": [
      "2021-09-12 11:01:40,514 INFO sqlalchemy.engine.Engine SELECT demos.id AS demos_id, demos.name AS demos_name, demos.password AS demos_password \n",
      "FROM demos\n",
      "2021-09-12 11:01:40,515 INFO sqlalchemy.engine.Engine [cached since 92.57s ago] ()\n"
     ]
    }
   ],
   "source": [
    "result = session.query(Demo).all()"
   ]
  },
  {
   "cell_type": "code",
   "execution_count": 8,
   "id": "81135ba6",
   "metadata": {},
   "outputs": [
    {
     "data": {
      "text/plain": [
       "list"
      ]
     },
     "execution_count": 8,
     "metadata": {},
     "output_type": "execute_result"
    }
   ],
   "source": [
    "type(result)"
   ]
  },
  {
   "cell_type": "code",
   "execution_count": 9,
   "id": "9498efaa",
   "metadata": {},
   "outputs": [
    {
     "name": "stdout",
     "output_type": "stream",
     "text": [
      "user1\n",
      "user2\n",
      "user3\n"
     ]
    }
   ],
   "source": [
    "for r in result:\n",
    "    print(r.name)"
   ]
  },
  {
   "cell_type": "code",
   "execution_count": 11,
   "id": "82177310",
   "metadata": {},
   "outputs": [],
   "source": [
    "session.commit()\n",
    "session.close()"
   ]
  },
  {
   "cell_type": "markdown",
   "id": "c463e96a",
   "metadata": {},
   "source": [
    "# commit X"
   ]
  },
  {
   "cell_type": "code",
   "execution_count": 12,
   "id": "f0e5ba06",
   "metadata": {},
   "outputs": [],
   "source": [
    "session= Session()\n",
    "user4 = Demo(name=\"user4\", password=\"password\")"
   ]
  },
  {
   "cell_type": "code",
   "execution_count": 13,
   "id": "a2f36bf4",
   "metadata": {},
   "outputs": [],
   "source": [
    "session.add(user4)"
   ]
  },
  {
   "cell_type": "code",
   "execution_count": 14,
   "id": "0ada95a7",
   "metadata": {},
   "outputs": [
    {
     "name": "stdout",
     "output_type": "stream",
     "text": [
      "2021-09-12 11:03:34,066 INFO sqlalchemy.engine.Engine BEGIN (implicit)\n",
      "2021-09-12 11:03:34,067 INFO sqlalchemy.engine.Engine INSERT INTO demos (name, password) VALUES (?, ?)\n",
      "2021-09-12 11:03:34,068 INFO sqlalchemy.engine.Engine [cached since 206.1s ago] ('user4', 'password')\n",
      "2021-09-12 11:03:34,070 INFO sqlalchemy.engine.Engine SELECT demos.id AS demos_id, demos.name AS demos_name, demos.password AS demos_password \n",
      "FROM demos\n",
      "2021-09-12 11:03:34,070 INFO sqlalchemy.engine.Engine [cached since 206.1s ago] ()\n"
     ]
    }
   ],
   "source": [
    "result = session.query(Demo).all()"
   ]
  },
  {
   "cell_type": "code",
   "execution_count": 15,
   "id": "b4162c7f",
   "metadata": {},
   "outputs": [
    {
     "name": "stdout",
     "output_type": "stream",
     "text": [
      "user1\n",
      "user2\n",
      "user3\n",
      "user4\n"
     ]
    }
   ],
   "source": [
    "for r in result:\n",
    "    print(r.name)"
   ]
  },
  {
   "cell_type": "code",
   "execution_count": 16,
   "id": "0ecf9b24",
   "metadata": {},
   "outputs": [
    {
     "name": "stdout",
     "output_type": "stream",
     "text": [
      "2021-09-12 11:04:02,094 INFO sqlalchemy.engine.Engine ROLLBACK\n"
     ]
    }
   ],
   "source": [
    "session.close()"
   ]
  },
  {
   "cell_type": "code",
   "execution_count": null,
   "id": "44aad7d1",
   "metadata": {},
   "outputs": [],
   "source": []
  }
 ],
 "metadata": {
  "kernelspec": {
   "display_name": "Python 3",
   "language": "python",
   "name": "python3"
  },
  "language_info": {
   "codemirror_mode": {
    "name": "ipython",
    "version": 3
   },
   "file_extension": ".py",
   "mimetype": "text/x-python",
   "name": "python",
   "nbconvert_exporter": "python",
   "pygments_lexer": "ipython3",
   "version": "3.8.8"
  }
 },
 "nbformat": 4,
 "nbformat_minor": 5
}
