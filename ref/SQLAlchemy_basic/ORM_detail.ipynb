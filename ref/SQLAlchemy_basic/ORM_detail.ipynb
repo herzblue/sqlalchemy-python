{
 "cells": [
  {
   "cell_type": "markdown",
   "id": "e93d1f79",
   "metadata": {},
   "source": [
    "# 1. 환경설정"
   ]
  },
  {
   "cell_type": "markdown",
   "id": "5652d51a",
   "metadata": {},
   "source": [
    "### engine, session_maker, base 생성"
   ]
  },
  {
   "cell_type": "code",
   "execution_count": 1,
   "id": "fe442805",
   "metadata": {},
   "outputs": [
    {
     "name": "stderr",
     "output_type": "stream",
     "text": [
      "/tmp/ipykernel_94633/3416448916.py:8: MovedIn20Warning: The ``declarative_base()`` function is now available as sqlalchemy.orm.declarative_base(). (deprecated since: 2.0) (Background on SQLAlchemy 2.0 at: https://sqlalche.me/e/b8d9)\n",
      "  Base = declarative_base()\n"
     ]
    }
   ],
   "source": [
    "from sqlalchemy import create_engine\n",
    "from sqlalchemy.orm import sessionmaker\n",
    "from sqlalchemy.ext.declarative import declarative_base\n",
    "\n",
    "#reference: https://docs.sqlalchemy.org/en/14/orm/session_api.html#session-and-sessionmaker\n",
    "engine = create_engine('sqlite:///example.db', echo=True)\n",
    "Session = sessionmaker(engine)\n",
    "Base = declarative_base()"
   ]
  },
  {
   "cell_type": "markdown",
   "id": "1c40ae5e",
   "metadata": {},
   "source": [
    "### Entity 생성"
   ]
  },
  {
   "cell_type": "code",
   "execution_count": 2,
   "id": "531c758d",
   "metadata": {},
   "outputs": [],
   "source": [
    "from sqlalchemy import Column, Integer, String\n",
    "\n",
    "class Demo(Base):\n",
    "    __tablename__ = 'demos'\n",
    "    \n",
    "    id = Column(Integer, primary_key=True)\n",
    "    name = Column(String)\n",
    "    password = Column(String)"
   ]
  },
  {
   "cell_type": "code",
   "execution_count": 3,
   "id": "f4872548",
   "metadata": {},
   "outputs": [
    {
     "name": "stdout",
     "output_type": "stream",
     "text": [
      "demos: demos\n"
     ]
    }
   ],
   "source": [
    "for k,v in Base.metadata.tables.items():\n",
    "    print(f\"{k}: {v}\")"
   ]
  },
  {
   "cell_type": "code",
   "execution_count": 4,
   "id": "e928036d",
   "metadata": {},
   "outputs": [
    {
     "name": "stdout",
     "output_type": "stream",
     "text": [
      "2024-06-29 01:36:18,824 INFO sqlalchemy.engine.Engine BEGIN (implicit)\n",
      "2024-06-29 01:36:18,825 INFO sqlalchemy.engine.Engine PRAGMA main.table_info(\"demos\")\n",
      "2024-06-29 01:36:18,827 INFO sqlalchemy.engine.Engine [raw sql] ()\n",
      "2024-06-29 01:36:18,834 INFO sqlalchemy.engine.Engine COMMIT\n"
     ]
    }
   ],
   "source": [
    "Base.metadata.create_all(engine)"
   ]
  },
  {
   "cell_type": "markdown",
   "id": "c7871f67",
   "metadata": {},
   "source": [
    "# 2. session autoflush True(default) 테스트"
   ]
  },
  {
   "cell_type": "code",
   "execution_count": 5,
   "id": "451afe90",
   "metadata": {},
   "outputs": [],
   "source": [
    "session = Session()"
   ]
  },
  {
   "cell_type": "code",
   "execution_count": 6,
   "id": "a7167724",
   "metadata": {},
   "outputs": [
    {
     "data": {
      "text/plain": [
       "True"
      ]
     },
     "execution_count": 6,
     "metadata": {},
     "output_type": "execute_result"
    }
   ],
   "source": [
    "session.autoflush"
   ]
  },
  {
   "cell_type": "code",
   "execution_count": 7,
   "id": "0d625a22",
   "metadata": {},
   "outputs": [],
   "source": [
    "# 객체 생성\n",
    "demo = Demo(name=\"hello\", password=\"world\")\n",
    "session.add(demo)"
   ]
  },
  {
   "cell_type": "code",
   "execution_count": 8,
   "id": "8e00b33b",
   "metadata": {},
   "outputs": [
    {
     "name": "stdout",
     "output_type": "stream",
     "text": [
      "2024-06-29 01:36:32,095 INFO sqlalchemy.engine.Engine BEGIN (implicit)\n",
      "2024-06-29 01:36:32,098 INFO sqlalchemy.engine.Engine INSERT INTO demos (name, password) VALUES (?, ?)\n",
      "2024-06-29 01:36:32,100 INFO sqlalchemy.engine.Engine [generated in 0.00146s] ('hello', 'world')\n",
      "2024-06-29 01:36:32,111 INFO sqlalchemy.engine.Engine SELECT demos.id AS demos_id, demos.name AS demos_name, demos.password AS demos_password \n",
      "FROM demos\n",
      "2024-06-29 01:36:32,112 INFO sqlalchemy.engine.Engine [generated in 0.00105s] ()\n",
      "hello: world\n",
      "hello: world\n",
      "hello: world\n"
     ]
    }
   ],
   "source": [
    "# select * from Demo\n",
    "result = session.query(Demo).all()\n",
    "for r in result:\n",
    "    print(f\"{r.name}: {r.password}\")"
   ]
  },
  {
   "cell_type": "markdown",
   "id": "521bf05b",
   "metadata": {},
   "source": [
    "### session.commit을 하지 않았으므로 session이 닫히는 순간 transaction rollback 수행"
   ]
  },
  {
   "cell_type": "code",
   "execution_count": 9,
   "id": "1f381dda",
   "metadata": {},
   "outputs": [
    {
     "name": "stdout",
     "output_type": "stream",
     "text": [
      "2024-06-29 01:36:43,817 INFO sqlalchemy.engine.Engine ROLLBACK\n"
     ]
    }
   ],
   "source": [
    "session.close()"
   ]
  },
  {
   "cell_type": "markdown",
   "id": "4e62859a",
   "metadata": {},
   "source": [
    "# 2. session autoflush False 테스트\n",
    "* reference: https://stackoverflow.com/questions/4201455/sqlalchemy-whats-the-difference-between-flush-and-commit"
   ]
  },
  {
   "cell_type": "code",
   "execution_count": 10,
   "id": "350562cd",
   "metadata": {},
   "outputs": [],
   "source": [
    "session_autoflush_false = Session()\n",
    "session_autoflush_false.autoflush = False"
   ]
  },
  {
   "cell_type": "code",
   "execution_count": 11,
   "id": "acfdbf64",
   "metadata": {},
   "outputs": [
    {
     "data": {
      "text/plain": [
       "False"
      ]
     },
     "execution_count": 11,
     "metadata": {},
     "output_type": "execute_result"
    }
   ],
   "source": [
    "session_autoflush_false.autoflush"
   ]
  },
  {
   "cell_type": "code",
   "execution_count": 12,
   "id": "3dbdc473",
   "metadata": {},
   "outputs": [],
   "source": [
    "demo2 = Demo(name=\"hello2\", password=\"world2\")\n",
    "session_autoflush_false.add(demo2)"
   ]
  },
  {
   "cell_type": "markdown",
   "id": "a577430c",
   "metadata": {},
   "source": [
    "### flush가 false로 설정되어 있어 demo2 ORM이 조회가 안됨"
   ]
  },
  {
   "cell_type": "code",
   "execution_count": 13,
   "id": "cff5c099",
   "metadata": {},
   "outputs": [
    {
     "name": "stdout",
     "output_type": "stream",
     "text": [
      "2021-08-19 16:44:12,352 INFO sqlalchemy.engine.Engine BEGIN (implicit)\n",
      "2021-08-19 16:44:12,353 INFO sqlalchemy.engine.Engine SELECT demos.id AS demos_id, demos.name AS demos_name, demos.password AS demos_password \n",
      "FROM demos\n",
      "2021-08-19 16:44:12,354 INFO sqlalchemy.engine.Engine [cached since 0.07028s ago] ()\n"
     ]
    }
   ],
   "source": [
    "result2 = session_autoflush_false.query(Demo).all()\n",
    "for r in result2:\n",
    "    print(f\"{r.name}: {r.password}\")    "
   ]
  },
  {
   "cell_type": "code",
   "execution_count": 14,
   "id": "3b032c59",
   "metadata": {},
   "outputs": [
    {
     "name": "stdout",
     "output_type": "stream",
     "text": [
      "2021-08-19 16:44:12,367 INFO sqlalchemy.engine.Engine INSERT INTO demos (name, password) VALUES (?, ?)\n",
      "2021-08-19 16:44:12,367 INFO sqlalchemy.engine.Engine [cached since 0.08762s ago] ('hello2', 'world2')\n"
     ]
    }
   ],
   "source": [
    "session_autoflush_false.flush()"
   ]
  },
  {
   "cell_type": "markdown",
   "id": "a5318175",
   "metadata": {},
   "source": [
    "### flush함수를 호출해서 트랙잰션 생셩"
   ]
  },
  {
   "cell_type": "code",
   "execution_count": 15,
   "id": "33191a99",
   "metadata": {},
   "outputs": [
    {
     "name": "stdout",
     "output_type": "stream",
     "text": [
      "2021-08-19 16:44:12,381 INFO sqlalchemy.engine.Engine SELECT demos.id AS demos_id, demos.name AS demos_name, demos.password AS demos_password \n",
      "FROM demos\n",
      "2021-08-19 16:44:12,382 INFO sqlalchemy.engine.Engine [cached since 0.09909s ago] ()\n",
      "hello2: world2\n"
     ]
    }
   ],
   "source": [
    "result2 = session_autoflush_false.query(Demo).all()\n",
    "for r in result2:\n",
    "    print(f\"{r.name}: {r.password}\")  "
   ]
  },
  {
   "cell_type": "code",
   "execution_count": 16,
   "id": "51b9eef7",
   "metadata": {},
   "outputs": [
    {
     "name": "stdout",
     "output_type": "stream",
     "text": [
      "2021-08-19 16:47:10,807 INFO sqlalchemy.engine.Engine ROLLBACK\n"
     ]
    }
   ],
   "source": [
    "session_autoflush_false.close()"
   ]
  },
  {
   "cell_type": "code",
   "execution_count": null,
   "id": "0295e9bd",
   "metadata": {},
   "outputs": [],
   "source": []
  }
 ],
 "metadata": {
  "kernelspec": {
   "display_name": "Python 3",
   "language": "python",
   "name": "python3"
  },
  "language_info": {
   "codemirror_mode": {
    "name": "ipython",
    "version": 3
   },
   "file_extension": ".py",
   "mimetype": "text/x-python",
   "name": "python",
   "nbconvert_exporter": "python",
   "pygments_lexer": "ipython3",
   "version": "3.10.14"
  }
 },
 "nbformat": 4,
 "nbformat_minor": 5
}
