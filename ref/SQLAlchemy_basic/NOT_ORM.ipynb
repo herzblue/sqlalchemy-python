{
 "cells": [
  {
   "cell_type": "code",
   "execution_count": 1,
   "id": "834556d1",
   "metadata": {},
   "outputs": [],
   "source": [
    "from sqlalchemy import create_engine\n",
    "\n",
    "# memory sqlite db\n",
    "# reference: https://docs.sqlalchemy.org/en/14/core/engines.html#sqlite\n",
    "db_url = 'sqlite://'\n",
    "engine = create_engine(db_url, echo=True)"
   ]
  },
  {
   "cell_type": "markdown",
   "id": "3590173e",
   "metadata": {},
   "source": [
    "### 테이블 생성"
   ]
  },
  {
   "cell_type": "code",
   "execution_count": 2,
   "id": "0f3b0faf",
   "metadata": {},
   "outputs": [
    {
     "name": "stdout",
     "output_type": "stream",
     "text": [
      "2021-08-14 13:54:18,643 INFO sqlalchemy.engine.Engine CREATE TABLE \"EX1\" (id INTEGER NOT NULL,name VARCHAR, PRIMARY KEY (id));\n",
      "2021-08-14 13:54:18,645 INFO sqlalchemy.engine.Engine [raw sql] ()\n",
      "2021-08-14 13:54:18,646 INFO sqlalchemy.engine.Engine COMMIT\n"
     ]
    },
    {
     "data": {
      "text/plain": [
       "<sqlalchemy.engine.cursor.LegacyCursorResult at 0x1ed795f4a00>"
      ]
     },
     "execution_count": 2,
     "metadata": {},
     "output_type": "execute_result"
    }
   ],
   "source": [
    "conn = engine.connect()\n",
    "\n",
    "# referemce: https://www.pythonsheets.com/notes/python-sqlalchemy.html\n",
    "engine.execute('CREATE TABLE \"EX1\" ('\n",
    "               'id INTEGER NOT NULL,'\n",
    "               'name VARCHAR, '\n",
    "               'PRIMARY KEY (id));')"
   ]
  },
  {
   "cell_type": "markdown",
   "id": "d2934c52",
   "metadata": {},
   "source": [
    "### 데이터 삽입"
   ]
  },
  {
   "cell_type": "code",
   "execution_count": 4,
   "id": "a9fe5925",
   "metadata": {},
   "outputs": [
    {
     "name": "stdout",
     "output_type": "stream",
     "text": [
      "2021-08-14 13:55:53,442 INFO sqlalchemy.engine.Engine INSERT INTO \"EX1\" (id, name) VALUES (1, \"raw\")\n",
      "2021-08-14 13:55:53,442 INFO sqlalchemy.engine.Engine [raw sql] ()\n",
      "2021-08-14 13:55:53,443 INFO sqlalchemy.engine.Engine COMMIT\n"
     ]
    },
    {
     "data": {
      "text/plain": [
       "<sqlalchemy.engine.cursor.LegacyCursorResult at 0x1ed795f4610>"
      ]
     },
     "execution_count": 4,
     "metadata": {},
     "output_type": "execute_result"
    }
   ],
   "source": [
    "engine.execute('INSERT INTO \"EX1\" '\n",
    "              '(id, name) '\n",
    "              'VALUES (1, \"raw\")')"
   ]
  },
  {
   "cell_type": "markdown",
   "id": "4d608601",
   "metadata": {},
   "source": [
    "### 데이터 조회"
   ]
  },
  {
   "cell_type": "code",
   "execution_count": 5,
   "id": "e1ce4f47",
   "metadata": {},
   "outputs": [
    {
     "name": "stdout",
     "output_type": "stream",
     "text": [
      "2021-08-14 13:56:06,189 INFO sqlalchemy.engine.Engine select * from EX1;\n",
      "2021-08-14 13:56:06,190 INFO sqlalchemy.engine.Engine [raw sql] ()\n",
      "(1, 'raw')\n"
     ]
    }
   ],
   "source": [
    "select_query = 'select * from EX1;'\n",
    "result = conn.execute(select_query)\n",
    "for _r in result:\n",
    "   print(_r)\n"
   ]
  },
  {
   "cell_type": "code",
   "execution_count": null,
   "id": "9f190ee5",
   "metadata": {},
   "outputs": [],
   "source": []
  }
 ],
 "metadata": {
  "kernelspec": {
   "display_name": "Python 3",
   "language": "python",
   "name": "python3"
  },
  "language_info": {
   "codemirror_mode": {
    "name": "ipython",
    "version": 3
   },
   "file_extension": ".py",
   "mimetype": "text/x-python",
   "name": "python",
   "nbconvert_exporter": "python",
   "pygments_lexer": "ipython3",
   "version": "3.8.8"
  }
 },
 "nbformat": 4,
 "nbformat_minor": 5
}
