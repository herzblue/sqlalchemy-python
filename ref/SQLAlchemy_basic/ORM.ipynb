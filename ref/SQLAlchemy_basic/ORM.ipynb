{
 "cells": [
  {
   "cell_type": "code",
   "execution_count": 1,
   "id": "c67de88d",
   "metadata": {},
   "outputs": [],
   "source": [
    "from sqlalchemy import create_engine\n",
    "\n",
    "engine = create_engine('sqlite:///example.db', echo=True)"
   ]
  },
  {
   "cell_type": "markdown",
   "id": "369d483b",
   "metadata": {},
   "source": [
    "### ORM 초기화"
   ]
  },
  {
   "cell_type": "code",
   "execution_count": 2,
   "id": "ee6b81ae",
   "metadata": {},
   "outputs": [
    {
     "name": "stderr",
     "output_type": "stream",
     "text": [
      "/tmp/ipykernel_93940/2531115412.py:7: MovedIn20Warning: The ``declarative_base()`` function is now available as sqlalchemy.orm.declarative_base(). (deprecated since: 2.0) (Background on SQLAlchemy 2.0 at: https://sqlalche.me/e/b8d9)\n",
      "  Base = declarative_base()\n"
     ]
    }
   ],
   "source": [
    "from sqlalchemy.orm import sessionmaker\n",
    "from sqlalchemy.ext.declarative import declarative_base\n",
    "\n",
    "session_maker = sessionmaker(bind=engine)\n",
    "session = session_maker()\n",
    "\n",
    "Base = declarative_base()"
   ]
  },
  {
   "cell_type": "markdown",
   "id": "b4de65c6",
   "metadata": {},
   "source": [
    "### 테이블 정의"
   ]
  },
  {
   "cell_type": "code",
   "execution_count": 3,
   "id": "9e2f894d",
   "metadata": {},
   "outputs": [],
   "source": [
    "from sqlalchemy import Column, Integer, String\n",
    "\n",
    "class Demo(Base):\n",
    "    __tablename__ = 'demos'\n",
    "    \n",
    "    id = Column(Integer, primary_key=True)\n",
    "    name = Column(String)\n",
    "    password = Column(String)"
   ]
  },
  {
   "cell_type": "code",
   "execution_count": 5,
   "id": "4d04f681",
   "metadata": {},
   "outputs": [
    {
     "data": {
      "text/plain": [
       "'demos'"
      ]
     },
     "execution_count": 5,
     "metadata": {},
     "output_type": "execute_result"
    }
   ],
   "source": [
    "Demo.__tablename__"
   ]
  },
  {
   "cell_type": "markdown",
   "id": "1d30c0d1",
   "metadata": {},
   "source": [
    "### metadata확인\n",
    "* demos 테이블은 engine이 메타데이터로 관리\n",
    "* 아직 databse에 미반영"
   ]
  },
  {
   "cell_type": "code",
   "execution_count": 6,
   "id": "5e190ac6",
   "metadata": {},
   "outputs": [
    {
     "name": "stdout",
     "output_type": "stream",
     "text": [
      "demos: demos\n"
     ]
    }
   ],
   "source": [
    "for k,v in Base.metadata.tables.items():\n",
    "    print(f\"{k}: {v}\")"
   ]
  },
  {
   "cell_type": "code",
   "execution_count": 7,
   "id": "b14683aa",
   "metadata": {},
   "outputs": [
    {
     "data": {
      "text/plain": [
       "FacadeDict({'demos': Table('demos', MetaData(), Column('id', Integer(), table=<demos>, primary_key=True, nullable=False), Column('name', String(), table=<demos>), Column('password', String(), table=<demos>), schema=None)})"
      ]
     },
     "execution_count": 7,
     "metadata": {},
     "output_type": "execute_result"
    }
   ],
   "source": [
    "Base.metadata.tables"
   ]
  },
  {
   "cell_type": "markdown",
   "id": "a44020a2",
   "metadata": {},
   "source": [
    "### metadata -> 데이터베이스 반영\n",
    "* engine은 commit을 실행하여 데이터베이스에 테이블을 반영(실행 결과 맨 마지막 줄에 commit로그)"
   ]
  },
  {
   "cell_type": "code",
   "execution_count": 8,
   "id": "aa0309b0",
   "metadata": {},
   "outputs": [
    {
     "name": "stdout",
     "output_type": "stream",
     "text": [
      "2024-06-29 01:34:32,284 INFO sqlalchemy.engine.Engine BEGIN (implicit)\n",
      "2024-06-29 01:34:32,285 INFO sqlalchemy.engine.Engine PRAGMA main.table_info(\"demos\")\n",
      "2024-06-29 01:34:32,286 INFO sqlalchemy.engine.Engine [raw sql] ()\n",
      "2024-06-29 01:34:32,291 INFO sqlalchemy.engine.Engine PRAGMA temp.table_info(\"demos\")\n",
      "2024-06-29 01:34:32,292 INFO sqlalchemy.engine.Engine [raw sql] ()\n",
      "2024-06-29 01:34:32,294 INFO sqlalchemy.engine.Engine \n",
      "CREATE TABLE demos (\n",
      "\tid INTEGER NOT NULL, \n",
      "\tname VARCHAR, \n",
      "\tpassword VARCHAR, \n",
      "\tPRIMARY KEY (id)\n",
      ")\n",
      "\n",
      "\n",
      "2024-06-29 01:34:32,295 INFO sqlalchemy.engine.Engine [no key 0.00076s] ()\n",
      "2024-06-29 01:34:32,314 INFO sqlalchemy.engine.Engine COMMIT\n"
     ]
    }
   ],
   "source": [
    "Base.metadata.create_all(engine)"
   ]
  },
  {
   "cell_type": "markdown",
   "id": "46de5cf2",
   "metadata": {},
   "source": [
    "### 세션에 객체 추가\n",
    "* 세션에만 객체가 저장될 뿐 아직 데이터베이스에 미반영"
   ]
  },
  {
   "cell_type": "code",
   "execution_count": 10,
   "id": "2d25299a",
   "metadata": {},
   "outputs": [],
   "source": [
    "# 객체 생성\n",
    "demo = Demo(name=\"hello\", password=\"world\")\n",
    "\n",
    "session.add(demo)"
   ]
  },
  {
   "cell_type": "code",
   "execution_count": 11,
   "id": "cb6b5732",
   "metadata": {},
   "outputs": [
    {
     "name": "stdout",
     "output_type": "stream",
     "text": [
      "2024-06-29 01:35:12,530 INFO sqlalchemy.engine.Engine BEGIN (implicit)\n",
      "2024-06-29 01:35:12,535 INFO sqlalchemy.engine.Engine INSERT INTO demos (name, password) VALUES (?, ?)\n",
      "2024-06-29 01:35:12,536 INFO sqlalchemy.engine.Engine [generated in 0.00131s] ('hello', 'world')\n",
      "2024-06-29 01:35:12,545 INFO sqlalchemy.engine.Engine INSERT INTO demos (name, password) VALUES (?, ?)\n",
      "2024-06-29 01:35:12,546 INFO sqlalchemy.engine.Engine [cached since 0.01165s ago] ('hello', 'world')\n",
      "2024-06-29 01:35:12,549 INFO sqlalchemy.engine.Engine SELECT demos.id AS demos_id, demos.name AS demos_name, demos.password AS demos_password \n",
      "FROM demos \n",
      "WHERE demos.name = ?\n",
      "2024-06-29 01:35:12,550 INFO sqlalchemy.engine.Engine [generated in 0.00103s] ('hello',)\n",
      "hello\n",
      "hello\n"
     ]
    }
   ],
   "source": [
    "# 생성한 객체 조회\n",
    "find_demos = session.query(Demo).filter_by(name=\"hello\").all()\n",
    "\n",
    "for demo in find_demos:\n",
    "    print(demo.name)"
   ]
  },
  {
   "cell_type": "markdown",
   "id": "6510fd07",
   "metadata": {},
   "source": [
    "### 세션 commit\n",
    "* 세션에 저장된 데이터를 데이터베이스에 commit"
   ]
  },
  {
   "cell_type": "code",
   "execution_count": 12,
   "id": "a3bbad92",
   "metadata": {},
   "outputs": [
    {
     "name": "stdout",
     "output_type": "stream",
     "text": [
      "2024-06-29 01:35:36,336 INFO sqlalchemy.engine.Engine COMMIT\n"
     ]
    }
   ],
   "source": [
    "session.commit()"
   ]
  },
  {
   "cell_type": "code",
   "execution_count": null,
   "id": "531bb1eb",
   "metadata": {},
   "outputs": [],
   "source": []
  }
 ],
 "metadata": {
  "kernelspec": {
   "display_name": "Python 3",
   "language": "python",
   "name": "python3"
  },
  "language_info": {
   "codemirror_mode": {
    "name": "ipython",
    "version": 3
   },
   "file_extension": ".py",
   "mimetype": "text/x-python",
   "name": "python",
   "nbconvert_exporter": "python",
   "pygments_lexer": "ipython3",
   "version": "3.10.14"
  }
 },
 "nbformat": 4,
 "nbformat_minor": 5
}
